{
 "cells": [
  {
   "cell_type": "code",
   "execution_count": 1,
   "id": "incident-force",
   "metadata": {},
   "outputs": [],
   "source": [
    "import sys\n",
    "import numpy as np\n",
    "sys.path.append(\"../build/python\")  # set to correct path for module\n",
    "import xfacpy"
   ]
  },
  {
   "cell_type": "code",
   "execution_count": 2,
   "id": "surface-interview",
   "metadata": {},
   "outputs": [
    {
     "name": "stdout",
     "output_type": "stream",
     "text": [
      "rank neval pivotError sum\n",
      "1 1801 0.23254415793482963 208167.06567259514\n",
      "2 1801 0.23254415793482963 208167.06567259514\n",
      "3 3976 0.20107272845569987 1279945.167678105\n",
      "4 7001 0.011312199963080721 1284801.458687075\n",
      "5 10876 0.009338186308114508 1332091.1331085798\n",
      "6 15301 0.008094392716598642 1382642.5969487939\n",
      "7 20476 0.006747384141733426 1386181.5463998623\n",
      "8 26401 0.004429658614960863 1386448.9914157188\n",
      "9 33076 0.0015393047033483986 1389128.8975895757\n",
      "10 40501 0.0010999942816584812 1389987.4308471011\n",
      "[(1, 5, 5), (5, 5, 10), (10, 5, 10), (10, 5, 10), (10, 5, 10), (10, 5, 10), (10, 5, 10), (10, 5, 10), (10, 5, 10), (10, 5, 10), (10, 5, 10), (10, 5, 10), (10, 5, 10), (10, 5, 10), (10, 5, 10), (10, 5, 10), (10, 5, 10), (10, 5, 10), (10, 5, 5), (5, 5, 1)]\n"
     ]
    }
   ],
   "source": [
    "def TestIsing(L=20, S=2, rankMax=10):\n",
    "    def energy(id):\n",
    "        sum = 0.0\n",
    "        for i in range(len(id)):\n",
    "            for j in range(len(id)):\n",
    "                sum += (id[i]-S)*(id[j]-S)/((i-j)*(i-j)+1)\n",
    "        return sum\n",
    "\n",
    "    def myTf(id):\n",
    "        myTf.c += 1\n",
    "        return np.exp(-energy(id))\n",
    "    myTf.c = 0\n",
    "\n",
    "    p=xfacpy.TensorCI1Param()\n",
    "    p.pivot1=[S]*L\n",
    "    p.fullPiv=True\n",
    "    ci = xfacpy.TensorCI1(myTf, [2*S+1]*L, p)\n",
    "    Z = [[1]*(2*S+1)]*L\n",
    "    print(\"rank neval pivotError sum\")\n",
    "    for i in range(1, rankMax+1):\n",
    "        ci.iterate()\n",
    "        z = ci.get_TensorTrain().sum(Z)\n",
    "        print(i, myTf.c, ci.pivotError[-1], z)\n",
    "    print([M.shape for M in ci.get_TensorTrain().core])\n",
    "\n",
    "TestIsing()"
   ]
  },
  {
   "cell_type": "code",
   "execution_count": null,
   "id": "01dac3dc-5c2e-4bf0-a9ed-cf944667145f",
   "metadata": {},
   "outputs": [],
   "source": []
  }
 ],
 "metadata": {
  "kernelspec": {
   "display_name": "Python 3 (ipykernel)",
   "language": "python",
   "name": "python3"
  },
  "language_info": {
   "codemirror_mode": {
    "name": "ipython",
    "version": 3
   },
   "file_extension": ".py",
   "mimetype": "text/x-python",
   "name": "python",
   "nbconvert_exporter": "python",
   "pygments_lexer": "ipython3",
   "version": "3.10.12"
  }
 },
 "nbformat": 4,
 "nbformat_minor": 5
}
